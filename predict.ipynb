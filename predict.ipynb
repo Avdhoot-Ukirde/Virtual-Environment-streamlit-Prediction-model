{
 "cells": [
  {
   "cell_type": "code",
   "execution_count": 1,
   "id": "6045cc47",
   "metadata": {},
   "outputs": [],
   "source": [
    "import pandas as pd \n",
    "import numpy as np\n",
    "import matplotlib.pyplot as plt\n",
    "import seaborn as sns"
   ]
  },
  {
   "cell_type": "code",
   "execution_count": null,
   "id": "36a7deb0",
   "metadata": {},
   "outputs": [],
   "source": [
    "df =  pd.read_csv('datasets\\Salary_Data.csv')"
   ]
  },
  {
   "cell_type": "code",
   "execution_count": null,
   "id": "b69e5032",
   "metadata": {},
   "outputs": [],
   "source": [
    "# print(df)\n",
    "# print(df.describe())\n",
    "# print(df.head())\n",
    "# print(df.info())\n",
    "# print(df.duplicated().sum())\n",
    "# print(df.isnull().sum)"
   ]
  },
  {
   "cell_type": "code",
   "execution_count": null,
   "id": "f8151b61",
   "metadata": {},
   "outputs": [],
   "source": [
    "# df['YearsExperience'].plot()\n",
    "plt.figure(figsize=(10,5))\n",
    "interval = np.arange(1,11.1,0.5)\n",
    "sns.displot(df['YearsExperience'],kde=True,bins = interval)\n",
    "plt.xticks(interval,rotation = 90)\n",
    "plt.show()"
   ]
  },
  {
   "cell_type": "code",
   "execution_count": 11,
   "id": "0426becd",
   "metadata": {},
   "outputs": [],
   "source": [
    "X = df[['YearsExperience']].values\n",
    "y = df['Salary'].values"
   ]
  },
  {
   "cell_type": "code",
   "execution_count": null,
   "id": "2460dd4d",
   "metadata": {},
   "outputs": [],
   "source": [
    "from sklearn.linear_model import LinearRegression\n",
    "model = LinearRegression()"
   ]
  }
 ],
 "metadata": {
  "kernelspec": {
   "display_name": "streamlit",
   "language": "python",
   "name": "python3"
  },
  "language_info": {
   "codemirror_mode": {
    "name": "ipython",
    "version": 3
   },
   "file_extension": ".py",
   "mimetype": "text/x-python",
   "name": "python",
   "nbconvert_exporter": "python",
   "pygments_lexer": "ipython3",
   "version": "3.13.5"
  }
 },
 "nbformat": 4,
 "nbformat_minor": 5
}
