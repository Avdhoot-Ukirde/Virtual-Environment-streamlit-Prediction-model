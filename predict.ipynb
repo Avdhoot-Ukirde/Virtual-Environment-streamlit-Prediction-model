{
 "cells": [
  {
   "cell_type": "code",
   "execution_count": 13,
   "id": "6045cc47",
   "metadata": {},
   "outputs": [],
   "source": [
    "import pandas as pd \n",
    "import numpy as np\n",
    "import matplotlib.pyplot as plt\n",
    "import seaborn as sns\n",
    "import sklearn as sk\n",
    "import streamlit as st\n",
    "import joblib "
   ]
  },
  {
   "cell_type": "code",
   "execution_count": 14,
   "id": "36a7deb0",
   "metadata": {},
   "outputs": [
    {
     "name": "stderr",
     "output_type": "stream",
     "text": [
      "<>:1: SyntaxWarning: invalid escape sequence '\\S'\n",
      "<>:1: SyntaxWarning: invalid escape sequence '\\S'\n",
      "C:\\Users\\avdhoot\\AppData\\Local\\Temp\\ipykernel_26064\\4141437463.py:1: SyntaxWarning: invalid escape sequence '\\S'\n",
      "  df =  pd.read_csv('datasets\\Salary_Data.csv')\n"
     ]
    }
   ],
   "source": [
    "df =  pd.read_csv('datasets\\Salary_Data.csv')"
   ]
  },
  {
   "cell_type": "code",
   "execution_count": 15,
   "id": "b69e5032",
   "metadata": {},
   "outputs": [
    {
     "name": "stdout",
     "output_type": "stream",
     "text": [
      "    YearsExperience    Salary\n",
      "0               1.1   39343.0\n",
      "1               1.3   46205.0\n",
      "2               1.5   37731.0\n",
      "3               2.0   43525.0\n",
      "4               2.2   39891.0\n",
      "5               2.9   56642.0\n",
      "6               3.0   60150.0\n",
      "7               3.2   54445.0\n",
      "8               3.2   64445.0\n",
      "9               3.7   57189.0\n",
      "10              3.9   63218.0\n",
      "11              4.0   55794.0\n",
      "12              4.0   56957.0\n",
      "13              4.1   57081.0\n",
      "14              4.5   61111.0\n",
      "15              4.9   67938.0\n",
      "16              5.1   66029.0\n",
      "17              5.3   83088.0\n",
      "18              5.9   81363.0\n",
      "19              6.0   93940.0\n",
      "20              6.8   91738.0\n",
      "21              7.1   98273.0\n",
      "22              7.9  101302.0\n",
      "23              8.2  113812.0\n",
      "24              8.7  109431.0\n",
      "25              9.0  105582.0\n",
      "26              9.5  116969.0\n",
      "27              9.6  112635.0\n",
      "28             10.3  122391.0\n",
      "29             10.5  121872.0\n",
      "       YearsExperience         Salary\n",
      "count        30.000000      30.000000\n",
      "mean          5.313333   76003.000000\n",
      "std           2.837888   27414.429785\n",
      "min           1.100000   37731.000000\n",
      "25%           3.200000   56720.750000\n",
      "50%           4.700000   65237.000000\n",
      "75%           7.700000  100544.750000\n",
      "max          10.500000  122391.000000\n",
      "   YearsExperience   Salary\n",
      "0              1.1  39343.0\n",
      "1              1.3  46205.0\n",
      "2              1.5  37731.0\n",
      "3              2.0  43525.0\n",
      "4              2.2  39891.0\n",
      "<class 'pandas.core.frame.DataFrame'>\n",
      "RangeIndex: 30 entries, 0 to 29\n",
      "Data columns (total 2 columns):\n",
      " #   Column           Non-Null Count  Dtype  \n",
      "---  ------           --------------  -----  \n",
      " 0   YearsExperience  30 non-null     float64\n",
      " 1   Salary           30 non-null     float64\n",
      "dtypes: float64(2)\n",
      "memory usage: 612.0 bytes\n",
      "None\n",
      "0\n",
      "<bound method DataFrame.sum of     YearsExperience  Salary\n",
      "0             False   False\n",
      "1             False   False\n",
      "2             False   False\n",
      "3             False   False\n",
      "4             False   False\n",
      "5             False   False\n",
      "6             False   False\n",
      "7             False   False\n",
      "8             False   False\n",
      "9             False   False\n",
      "10            False   False\n",
      "11            False   False\n",
      "12            False   False\n",
      "13            False   False\n",
      "14            False   False\n",
      "15            False   False\n",
      "16            False   False\n",
      "17            False   False\n",
      "18            False   False\n",
      "19            False   False\n",
      "20            False   False\n",
      "21            False   False\n",
      "22            False   False\n",
      "23            False   False\n",
      "24            False   False\n",
      "25            False   False\n",
      "26            False   False\n",
      "27            False   False\n",
      "28            False   False\n",
      "29            False   False>\n"
     ]
    }
   ],
   "source": [
    "print(df)\n",
    "print(df.describe())\n",
    "print(df.head())\n",
    "print(df.info())\n",
    "print(df.duplicated().sum())\n",
    "print(df.isnull().sum)"
   ]
  },
  {
   "cell_type": "code",
   "execution_count": 16,
   "id": "f8151b61",
   "metadata": {},
   "outputs": [
    {
     "data": {
      "text/plain": [
       "<Figure size 1000x500 with 0 Axes>"
      ]
     },
     "metadata": {},
     "output_type": "display_data"
    },
    {
     "data": {
      "image/png": "[encoded data removed]",
      "text/plain": [
       "<Figure size 500x500 with 1 Axes>"
      ]
     },
     "metadata": {},
     "output_type": "display_data"
    }
   ],
   "source": [
    "# df['YearsExperience'].plot()\n",
    "plt.figure(figsize=(10,5))\n",
    "interval = np.arange(1,11.1,0.5)\n",
    "sns.displot(df['YearsExperience'],kde=True,bins = interval)\n",
    "plt.xticks(interval,rotation = 90)\n",
    "plt.show()"
   ]
  },
  {
   "cell_type": "code",
   "execution_count": 17,
   "id": "0426becd",
   "metadata": {},
   "outputs": [],
   "source": [
    "X = df[['YearsExperience']].values\n",
    "y = df['Salary'].values"
   ]
  },
  {
   "cell_type": "code",
   "execution_count": 18,
   "id": "2460dd4d",
   "metadata": {},
   "outputs": [],
   "source": [
    "from sklearn.linear_model import LinearRegression\n",
    "model = LinearRegression()"
   ]
  },
  {
   "cell_type": "code",
   "execution_count": 19,
   "id": "663c8840",
   "metadata": {},
   "outputs": [
    {
     "name": "stdout",
     "output_type": "stream",
     "text": [
      "[57922.07209162]\n"
     ]
    }
   ],
   "source": [
    "model.fit(X,y)\n",
    "y_pred = model.predict(X)\n",
    "\n",
    "a = model.predict([[3.4]])\n",
    "print(a)\n"
   ]
  },
  {
   "cell_type": "code",
   "execution_count": 20,
   "id": "3d9deecf",
   "metadata": {},
   "outputs": [
    {
     "data": {
      "text/plain": [
       "['lr_model']"
      ]
     },
     "execution_count": 20,
     "metadata": {},
     "output_type": "execute_result"
    }
   ],
   "source": [
    "joblib.dump(model,'lr_model')"
   ]
  },
  {
   "cell_type": "code",
   "execution_count": 21,
   "id": "af81f2a4",
   "metadata": {},
   "outputs": [],
   "source": [
    "# %%writefile app.py\n",
    "\n",
    "# st.header(\"This a Salary Prediction Model Based on Years of Experience\")\n",
    "# st.caption(\"This ML model was desighned with a sample data obtained from kaggle. Linear Regression was the algorith used to make the model\")\n",
    "# model = joblib.load('lr_model')\n",
    "# years = st.slider(\"Enter the number of years of Experience\", min_value=0.0,max_value=20.0,value=5.0,step=0.1)\n",
    "\n",
    "# if st.button(\"PREDICT\"):\n",
    "#     op = model.predict([[years]])\n",
    "#     st.header(\"The estimted salary for a person having \"+str(years)+\" years of experience is ₹\"+ st(round(op[0],2)))\n",
    "\n"
   ]
  },
  {
   "cell_type": "code",
   "execution_count": 22,
   "id": "84eed9b0",
   "metadata": {},
   "outputs": [
    {
     "name": "stdout",
     "output_type": "stream",
     "text": [
      "Overwriting app.py\n"
     ]
    }
   ],
   "source": [
    "%%writefile app.py\n",
    "\n",
    "import streamlit as st\n",
    "import joblib\n",
    "\n",
    "# Title and description\n",
    "st.header(\"This is a Salary Prediction Model Based on Years of Experience\")\n",
    "st.caption(\"This ML model was designed with a sample dataset obtained from Kaggle. Linear Regression was the algorithm used to make the model.\")\n",
    "\n",
    "# Load saved model\n",
    "model = joblib.load('lr_model')  # Make sure you saved it earlier using joblib.dump(model, 'lr_model.pkl')\n",
    "\n",
    "# User input\n",
    "years = st.slider(\"Enter the number of years of experience\", min_value=0.0, max_value=20.0, value=5.0, step=0.1)\n",
    "\n",
    "# Prediction\n",
    "if st.button(\"PREDICT\"):\n",
    "    op = model.predict([[years]])  # Predict using model\n",
    "    st.header(f\"The estimated salary for a person with {years} years of experience is ₹ {round(op[0], 2)}\")\n"
   ]
  }
 ],
 "metadata": {
  "kernelspec": {
   "display_name": "streamlit",
   "language": "python",
   "name": "python3"
  },
  "language_info": {
   "codemirror_mode": {
    "name": "ipython",
    "version": 3
   },
   "file_extension": ".py",
   "mimetype": "text/x-python",
   "name": "python",
   "nbconvert_exporter": "python",
   "pygments_lexer": "ipython3",
   "version": "3.13.5"
  }
 },
 "nbformat": 4,
 "nbformat_minor": 5
}
