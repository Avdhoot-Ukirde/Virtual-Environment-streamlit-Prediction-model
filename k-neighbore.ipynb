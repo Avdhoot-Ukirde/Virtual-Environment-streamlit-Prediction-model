{
 "cells": [
  {
   "cell_type": "code",
   "execution_count": null,
   "id": "3d50eb13",
   "metadata": {},
   "outputs": [],
   "source": [
    "import pandas as pd\n",
    "import numpy as np\n",
    "import seaborn as sb\n",
    "import matplotlib.pyplot as mt\n",
    "import sklearn as sk"
   ]
  },
  {
   "cell_type": "code",
   "execution_count": 6,
   "id": "61586017",
   "metadata": {},
   "outputs": [
    {
     "name": "stderr",
     "output_type": "stream",
     "text": [
      "<>:1: SyntaxWarning: invalid escape sequence '\\k'\n",
      "<>:1: SyntaxWarning: invalid escape sequence '\\k'\n",
      "C:\\Users\\avdhoot\\AppData\\Local\\Temp\\ipykernel_30000\\3620740358.py:1: SyntaxWarning: invalid escape sequence '\\k'\n",
      "  df = pd.read_csv('datasets\\knn.csv')\n"
     ]
    }
   ],
   "source": [
    "df = pd.read_csv('datasets\\knn.csv')\n"
   ]
  },
  {
   "cell_type": "code",
   "execution_count": 4,
   "id": "778f7b87",
   "metadata": {},
   "outputs": [
    {
     "name": "stdout",
     "output_type": "stream",
     "text": [
      "<class 'pandas.core.frame.DataFrame'>\n",
      "RangeIndex: 25 entries, 0 to 24\n",
      "Data columns (total 3 columns):\n",
      " #   Column        Non-Null Count  Dtype \n",
      "---  ------        --------------  ----- \n",
      " 0   Weight(x2)kg  25 non-null     object\n",
      " 1   Height(y2)cm  25 non-null     object\n",
      " 2   Class         25 non-null     object\n",
      "dtypes: object(3)\n",
      "memory usage: 732.0+ bytes\n"
     ]
    }
   ],
   "source": [
    "df.info()"
   ]
  },
  {
   "cell_type": "code",
   "execution_count": null,
   "id": "88a18be3",
   "metadata": {},
   "outputs": [
    {
     "data": {
      "text/plain": [
       "'51'"
      ]
     },
     "execution_count": 12,
     "metadata": {},
     "output_type": "execute_result"
    }
   ],
   "source": [
    "a = \"51kg\"\n",
    "a.replace(\"kg\",\"\")            "
   ]
  },
  {
   "cell_type": "code",
   "execution_count": 14,
   "id": "a98520e0",
   "metadata": {},
   "outputs": [
    {
     "data": {
      "text/plain": [
       "'51'"
      ]
     },
     "execution_count": 14,
     "metadata": {},
     "output_type": "execute_result"
    }
   ],
   "source": [
    "(lambda a:a.replace(\"kg\",''))(\"51kg\")"
   ]
  },
  {
   "cell_type": "code",
   "execution_count": 23,
   "id": "b33ae128",
   "metadata": {},
   "outputs": [],
   "source": [
    "df['Weight(x2)kg'] = df['Weight(x2)kg'].apply(lambda a: str(a).replace(\"kg\", \"\")).astype(int)"
   ]
  },
  {
   "cell_type": "code",
   "execution_count": 22,
   "id": "1812a5c7",
   "metadata": {},
   "outputs": [],
   "source": [
    "df['Height(y2)cm'] = df['Height(y2)cm'].apply(lambda a: str(a).replace(\"cm\", \"\")).astype(int)"
   ]
  },
  {
   "cell_type": "code",
   "execution_count": 28,
   "id": "07b923db",
   "metadata": {},
   "outputs": [
    {
     "data": {
      "text/plain": [
       "np.int64(0)"
      ]
     },
     "execution_count": 28,
     "metadata": {},
     "output_type": "execute_result"
    }
   ],
   "source": [
    "df.isnull().sum()\n",
    "\n",
    "df.describe()\n",
    "\n",
    "df.duplicated().sum()"
   ]
  },
  {
   "cell_type": "code",
   "execution_count": 33,
   "id": "f9581a2f",
   "metadata": {},
   "outputs": [
    {
     "data": {
      "text/plain": [
       "array(['Underweight', 'Normal', 'Overweight', 'Normal', 'Underweight',\n",
       "       'Overweight', 'Normal', 'Underweight', 'Overweight', 'Normal',\n",
       "       'Underweight', 'Normal', 'Overweight', 'Normal', 'Underweight',\n",
       "       'Normal', 'Overweight', 'Underweight', 'Normal', 'Overweight',\n",
       "       'Underweight', 'Normal', 'Overweight', 'Normal', 'Underweight'],\n",
       "      dtype=object)"
      ]
     },
     "execution_count": 33,
     "metadata": {},
     "output_type": "execute_result"
    }
   ],
   "source": [
    "X = df.iloc[:,[0,1]].values\n",
    "y = df.iloc[:,2].values\n",
    "y"
   ]
  }
 ],
 "metadata": {
  "kernelspec": {
   "display_name": "streamlit",
   "language": "python",
   "name": "python3"
  },
  "language_info": {
   "codemirror_mode": {
    "name": "ipython",
    "version": 3
   },
   "file_extension": ".py",
   "mimetype": "text/x-python",
   "name": "python",
   "nbconvert_exporter": "python",
   "pygments_lexer": "ipython3",
   "version": "3.13.5"
  }
 },
 "nbformat": 4,
 "nbformat_minor": 5
}
